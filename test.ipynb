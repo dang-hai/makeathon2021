{
 "cells": [
  {
   "cell_type": "code",
   "execution_count": 2,
   "source": [
    "import cv2\n",
    "import numpy as np\n",
    "from pathlib import Path\n",
    "import matplotlib.pyplot as plt\n"
   ],
   "outputs": [],
   "metadata": {}
  },
  {
   "cell_type": "code",
   "execution_count": 22,
   "source": [
    "\n",
    "def preprocess(img):\n",
    "\t## (1) Convert to gray, and threshold\n",
    "\t# gray = cv2.cvtColor(img, cv2.COLOR_BGR2GRAY)\n",
    "\tthreshed = cv2.threshold(img, 0, 255, cv2.THRESH_BINARY_INV + cv2.THRESH_OTSU)[1]\n",
    "\n",
    "\t## (2) Morph-op to remove noise\n",
    "\tkernel = cv2.getStructuringElement(cv2.MORPH_ELLIPSE, (11,11))\n",
    "\tmorphed = cv2.morphologyEx(threshed, cv2.MORPH_CLOSE, kernel)\n",
    "\n",
    "\t## (3) Find the max-area contour\n",
    "\tcnts = cv2.findContours(morphed, cv2.RETR_EXTERNAL, cv2.CHAIN_APPROX_SIMPLE)[-2]\n",
    "\tcnt = sorted(cnts, key=cv2.contourArea)[-1]\n",
    "\n",
    "\t## (4) Crop and save it\n",
    "\tx,y,w,h = cv2.boundingRect(cnt)\n",
    "\tdst = img[y:y+h, x:x+w]\n",
    "\n",
    "\tmax_size = np.max(dst.shape)\n",
    "\n",
    "\ttarget_size = 256\n",
    "\tif max_size > target_size:\n",
    "\t\timgW, imgH = dst.shape\n",
    "\t\tr = target_size/max_size\n",
    "\t\tdim = (target_size if imgW > imgH else int(r*imgW), target_size if imgH > imgW else int(r*imgH))\n",
    "\t\tdst = cv2.resize(dst, dim)\n",
    "\n",
    "\tw, h = dst.shape\n",
    "\tpadding_width = (target_size - w)\n",
    "\tpadding_left = int(padding_width/2)\n",
    "\tpadding_right = padding_width - padding_left\n",
    "\tpadding_height = (target_size - h)\n",
    "\tpadding_top = int(padding_height/2)\n",
    "\tpadding_bot = padding_height - padding_top\n",
    "\n",
    "\tdst = cv2.copyMakeBorder(dst, padding_left, padding_right, padding_top, padding_bot, cv2.BORDER_CONSTANT, value=[255, 255, 255])\n",
    "\n",
    "\t# Morph open to remove noise\n",
    "\tkernel = cv2.getStructuringElement(cv2.MORPH_RECT, (2,2))\n",
    "\topening = cv2.morphologyEx(dst, cv2.MORPH_OPEN, kernel, iterations=1)\n",
    "\n",
    "\t# Find contours and remove small noise\n",
    "\tcnts = cv2.findContours(opening, cv2.RETR_EXTERNAL, cv2.CHAIN_APPROX_SIMPLE)\n",
    "\tcnts = cnts[0] if len(cnts) == 2 else cnts[1]\n",
    "\tfor c in cnts:\n",
    "\t\tarea = cv2.contourArea(c)\n",
    "\t\tif area < 50:\n",
    "\t\t\tcv2.drawContours(opening, [c], -1, 0, -1)\n",
    "\n",
    "\t# Invert and apply slight Gaussian blur\n",
    "\tdst = 255 - opening\n",
    "\tdst = cv2.GaussianBlur(dst, (3,3), 0)\n",
    "\n",
    "\treturn dst"
   ],
   "outputs": [],
   "metadata": {}
  },
  {
   "cell_type": "markdown",
   "source": [],
   "metadata": {}
  },
  {
   "cell_type": "code",
   "execution_count": 32,
   "source": [
    "from torch.utils.data import Dataset, DataLoader\n",
    "from pathlib import Path            \n",
    "\n",
    "class Drawings(Dataset):\n",
    "    def __init__(self, data_dir, transform=None) -> None:\n",
    "        super(Drawings, self).__init__()\n",
    "        self.data = self._load_data(data_dir)\n",
    "        self.transform = transform\n",
    "    \n",
    "    def _load_data(self, data_dir):\n",
    "        files = []\n",
    "\n",
    "        for label, folder in enumerate(Path(data_dir).iterdir()):\n",
    "            print(label, folder)\n",
    "            if Path(folder).is_dir():\n",
    "                for f in Path(folder).iterdir():\n",
    "                    if f.suffix in [\".png\", \".jpg\", \".jpeg\"]:\n",
    "                        files.append([str(Path(f)), label])\n",
    "\n",
    "        return files\n",
    "\n",
    "    def __getitem__(self, idx):\n",
    "        img = cv2.imread(self.data[idx][0], 0)\n",
    "        img = preprocess(img)\n",
    "        if self.transform:\n",
    "            img = self.transform(img)\n",
    "            \n",
    "        return img, self.data[idx][1]\n",
    "\n",
    "    def __len__(self):\n",
    "        return len(self.data)\n",
    "\n",
    "\n",
    "ds = Drawings('drawings')\n",
    "len(ds)"
   ],
   "outputs": [
    {
     "output_type": "stream",
     "name": "stdout",
     "text": [
      "0 drawings/L_TOP\n",
      "1 drawings/langes_rechteck_vertical\n",
      "2 drawings/ShapeZ\n",
      "3 drawings/L_BOT\n",
      "4 drawings/langes_rechteck_horizontal\n"
     ]
    },
    {
     "output_type": "execute_result",
     "data": {
      "text/plain": [
       "92"
      ]
     },
     "metadata": {},
     "execution_count": 32
    }
   ],
   "metadata": {}
  },
  {
   "cell_type": "code",
   "execution_count": 52,
   "source": [
    "import os\n",
    "import datetime\n",
    "import torch\n",
    "import torchvision\n",
    "from torch import nn\n",
    "from torch.autograd import Variable\n",
    "from torch.utils.data import DataLoader\n",
    "from torchvision import transforms\n",
    "from torchvision.utils import save_image\n",
    "\n",
    "# if not os.path.exists('./mlp_img'):\n",
    "#     os.mkdir('./mlp_img')\n",
    "\n",
    "img_size = 256\n",
    "\n",
    "def to_img(x):\n",
    "    x = 0.5 * (x + 1)\n",
    "    x = x.clamp(0, 1)\n",
    "    x = x.view(x.size(0), 1, img_size, img_size)\n",
    "    return x\n",
    "\n",
    "num_epochs = 20\n",
    "batch_size = 16\n",
    "learning_rate = 1e-3\n",
    "\n",
    "img_transform = transforms.Compose([\n",
    "    transforms.ToTensor(),\n",
    "    transforms.Normalize([0.5], [0.5])\n",
    "])\n",
    "\n",
    "dataset = Drawings('drawings', transform=img_transform)\n",
    "# dataset = MNIST('./data', transform=img_transform, download=True)\n",
    "dataloader = DataLoader(dataset, batch_size=batch_size, shuffle=True)\n",
    "\n",
    "class Classifier(nn.Module):\n",
    "    def __init__(self):\n",
    "        super(Classifier, self).__init__()\n",
    "        self.encoder = nn.Sequential(\n",
    "            nn.Conv2d(1, 16, 3, stride=3, padding=1),  # b, 16, 10, 10\n",
    "            nn.ReLU(True),\n",
    "            nn.MaxPool2d(2, stride=2),  # b, 16, 5, 5\n",
    "            nn.Conv2d(16, 8, 3, stride=2, padding=1),  # b, 8, 3, 3\n",
    "            nn.ReLU(True),\n",
    "            nn.MaxPool2d(2, stride=1), # b, 8, 2, 2\n",
    "            nn.Flatten(1),\n",
    "            nn.Linear(3528, 128),\n",
    "            nn.Linear(128, 5),\n",
    "            nn.Softmax(1)\n",
    "        )\n",
    "\n",
    "\n",
    "    def forward(self, x):\n",
    "        x = self.encoder(x)\n",
    "        return x\n",
    "\n",
    "model = Classifier()\n",
    "criterion = nn.CrossEntropyLoss()\n",
    "optimizer = torch.optim.Adam(model.parameters(), lr=learning_rate,\n",
    "                             weight_decay=1e-5)\n",
    "for epoch in range(num_epochs):\n",
    "    total_loss = 0\n",
    "    for data in dataloader:\n",
    "        img, target = data\n",
    "        img = Variable(img)\n",
    "        target = Variable(target)\n",
    "        # ===================forward=====================\n",
    "        output = model(img)\n",
    "        loss = criterion(output, target)\n",
    "        # ===================backward====================\n",
    "        optimizer.zero_grad()\n",
    "        loss.backward()\n",
    "        optimizer.step()\n",
    "    # ===================log========================\n",
    "        total_loss += loss.data\n",
    "    print('epoch [{}/{}], loss:{:.4f}'\n",
    "          .format(epoch+1, num_epochs, total_loss / len(dataloader)))\n",
    "    # if epoch % 10 == 0:\n",
    "    #     pic = to_img(output.cpu().data)\n",
    "    #     save_image(pic, f'{out}/image_{epoch}.png')\n",
    "out = \"drawing_trained\"\n",
    "!cp test.ipynb $out\n",
    "torch.save(model.state_dict(), f'{out}/sim_autoencoder.pth')"
   ],
   "outputs": [
    {
     "output_type": "stream",
     "name": "stdout",
     "text": [
      "0 drawings/L_TOP\n",
      "1 drawings/langes_rechteck_vertical\n",
      "2 drawings/ShapeZ\n",
      "3 drawings/L_BOT\n",
      "4 drawings/langes_rechteck_horizontal\n",
      "epoch [1/20], loss:1.6204\n",
      "epoch [2/20], loss:1.5831\n",
      "epoch [3/20], loss:1.5158\n",
      "epoch [4/20], loss:1.3826\n",
      "epoch [5/20], loss:1.2354\n",
      "epoch [6/20], loss:1.1258\n",
      "epoch [7/20], loss:1.0669\n",
      "epoch [8/20], loss:1.0162\n",
      "epoch [9/20], loss:0.9880\n",
      "epoch [10/20], loss:0.9718\n",
      "epoch [11/20], loss:0.9578\n",
      "epoch [12/20], loss:0.9505\n",
      "epoch [13/20], loss:0.9471\n",
      "epoch [14/20], loss:0.9439\n",
      "epoch [15/20], loss:0.9401\n",
      "epoch [16/20], loss:0.9404\n",
      "epoch [17/20], loss:0.9388\n",
      "epoch [18/20], loss:0.9383\n",
      "epoch [19/20], loss:0.9385\n",
      "epoch [20/20], loss:0.9368\n"
     ]
    }
   ],
   "metadata": {}
  },
  {
   "cell_type": "code",
   "execution_count": 47,
   "source": [
    "plt.imshow(dataset[25][0].squeeze())"
   ],
   "outputs": [
    {
     "output_type": "execute_result",
     "data": {
      "text/plain": [
       "<matplotlib.image.AxesImage at 0x7f2d18f5b190>"
      ]
     },
     "metadata": {},
     "execution_count": 47
    },
    {
     "output_type": "display_data",
     "data": {
      "image/png": "[encoded data removed]",
      "text/plain": [
       "<Figure size 432x288 with 1 Axes>"
      ]
     },
     "metadata": {
      "needs_background": "light"
     }
    }
   ],
   "metadata": {}
  },
  {
   "cell_type": "code",
   "execution_count": 48,
   "source": [
    "model(dataset[25][0].unsqueeze(0))"
   ],
   "outputs": [
    {
     "output_type": "execute_result",
     "data": {
      "text/plain": [
       "tensor([[1.6299e-09, 1.0000e+00, 9.8936e-09, 4.7068e-08, 9.8954e-14]],\n",
       "       grad_fn=<SoftmaxBackward>)"
      ]
     },
     "metadata": {},
     "execution_count": 48
    }
   ],
   "metadata": {}
  },
  {
   "cell_type": "code",
   "execution_count": 49,
   "source": [
    "img = cv2.imread(\"drawings/L_TOP/L_right-18.jpeg\", 0)\n",
    "img = preprocess(img)\n",
    "img = img_transform(img)\n",
    "img"
   ],
   "outputs": [
    {
     "output_type": "execute_result",
     "data": {
      "text/plain": [
       "tensor([[[-1., -1., -1.,  ..., -1., -1., -1.],\n",
       "         [-1., -1., -1.,  ..., -1., -1., -1.],\n",
       "         [-1., -1., -1.,  ..., -1., -1., -1.],\n",
       "         ...,\n",
       "         [-1., -1., -1.,  ..., -1., -1., -1.],\n",
       "         [-1., -1., -1.,  ..., -1., -1., -1.],\n",
       "         [-1., -1., -1.,  ..., -1., -1., -1.]]])"
      ]
     },
     "metadata": {},
     "execution_count": 49
    }
   ],
   "metadata": {}
  },
  {
   "cell_type": "code",
   "execution_count": 3,
   "source": [
    "img = cv2.imread(\"drawings/L_TOP/L_right-18.jpeg\", 1)\n",
    "plt.imshow(img)"
   ],
   "outputs": [
    {
     "output_type": "execute_result",
     "data": {
      "text/plain": [
       "<matplotlib.image.AxesImage at 0x7fb5adc41d50>"
      ]
     },
     "metadata": {},
     "execution_count": 3
    },
    {
     "output_type": "display_data",
     "data": {
      "image/png": "[encoded data removed]",
      "text/plain": [
       "<Figure size 432x288 with 1 Axes>"
      ]
     },
     "metadata": {
      "needs_background": "light"
     }
    }
   ],
   "metadata": {}
  },
  {
   "cell_type": "code",
   "execution_count": 5,
   "source": [
    "img"
   ],
   "outputs": [
    {
     "output_type": "execute_result",
     "data": {
      "text/plain": [
       "array([[255, 255, 255, ..., 255, 255, 255],\n",
       "       [255, 255, 255, ..., 255, 255, 255],\n",
       "       [255, 255, 255, ..., 255, 255, 255],\n",
       "       ...,\n",
       "       [255, 255, 255, ..., 255, 255, 255],\n",
       "       [255, 255, 255, ..., 255, 255, 255],\n",
       "       [255, 255, 255, ..., 255, 255, 255]], dtype=uint8)"
      ]
     },
     "metadata": {},
     "execution_count": 5
    }
   ],
   "metadata": {}
  },
  {
   "cell_type": "code",
   "execution_count": null,
   "source": [],
   "outputs": [],
   "metadata": {}
  }
 ],
 "metadata": {
  "orig_nbformat": 4,
  "language_info": {
   "name": "python",
   "version": "3.7.9",
   "mimetype": "text/x-python",
   "codemirror_mode": {
    "name": "ipython",
    "version": 3
   },
   "pygments_lexer": "ipython3",
   "nbconvert_exporter": "python",
   "file_extension": ".py"
  },
  "kernelspec": {
   "name": "python3",
   "display_name": "Python 3.7.9 64-bit ('ganspace': conda)"
  },
  "interpreter": {
   "hash": "6962401aed9d8c917cf87a60b7203eec2a41e2991f28952c9050aa875f3283ba"
  }
 },
 "nbformat": 4,
 "nbformat_minor": 2
}